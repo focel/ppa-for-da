{
  "nbformat": 4,
  "nbformat_minor": 0,
  "metadata": {
    "colab": {
      "name": "recommender_system.ipynb",
      "provenance": [],
      "collapsed_sections": []
    },
    "kernelspec": {
      "name": "python3",
      "display_name": "Python 3"
    },
    "language_info": {
      "name": "python"
    }
  },
  "cells": [
    {
      "cell_type": "markdown",
      "metadata": {
        "id": "vDJXqQj3_AlS"
      },
      "source": [
        "##Библиотека Surprise\n",
        "\n",
        "Библиотека Surprise используется для создания рекомендательных систем. Рекомендательная система (англ. recommender system) - это подкласс системы фильтрации информации, которая стремится предсказать некоторый рейтинг или уровень предпочтения, который пользователь соотнесёт с конкретным элементом (например, товаром, фильмом, книгой и т.д.).\n",
        "\n",
        "**Коллаборативная фильтрация**, совместная фильтрация (англ. collaborative filtering) — метод, использующий известные предпочтения (оценки) группы пользователей для прогнозирования неизвестных предпочтений другого пользователя. Его основное допущение состоит в следующем: те, кто одинаково оценивал какие-либо предметы в прошлом, склонны давать похожие оценки другим предметам и в будущем. Например, с помощью коллаборативной фильтрации музыкальное приложение способно прогнозировать, какая музыка понравится пользователю, имея неполный список его предпочтений (симпатий и антипатий).\n",
        "\n",
        "В данном туториале рассмотрим построение рекомендательной системы основанной на коллаборативной фильтрации.\n"
      ]
    },
    {
      "cell_type": "code",
      "metadata": {
        "colab": {
          "base_uri": "https://localhost:8080/"
        },
        "id": "C3Mxf7ozpMxQ",
        "outputId": "183e546e-f52c-47a0-f72d-211b6fa738cf"
      },
      "source": [
        "! pip install scikit-surprise\n",
        "from surprise import Dataset\n",
        "from surprise import Reader\n",
        "\n",
        "import os\n",
        "import csv\n",
        "\n",
        "# Загрузим датасет с рейтингами фильмов\n",
        "!wget http://files.grouplens.org/datasets/movielens/ml-latest-small.zip\n",
        "!unzip ml-latest-small.zip\n",
        "!ls"
      ],
      "execution_count": 23,
      "outputs": [
        {
          "output_type": "stream",
          "name": "stdout",
          "text": [
            "--2021-11-21 17:57:27--  http://files.grouplens.org/datasets/movielens/ml-latest-small.zip\n",
            "Resolving files.grouplens.org (files.grouplens.org)... 128.101.65.152\n",
            "Connecting to files.grouplens.org (files.grouplens.org)|128.101.65.152|:80... connected.\n",
            "HTTP request sent, awaiting response... 200 OK\n",
            "Length: 978202 (955K) [application/zip]\n",
            "Saving to: ‘ml-latest-small.zip.1’\n",
            "\n",
            "\rml-latest-small.zip   0%[                    ]       0  --.-KB/s               \rml-latest-small.zip  89%[================>   ] 852.35K  4.06MB/s               \rml-latest-small.zip 100%[===================>] 955.28K  4.54MB/s    in 0.2s    \n",
            "\n",
            "2021-11-21 17:57:27 (4.54 MB/s) - ‘ml-latest-small.zip.1’ saved [978202/978202]\n",
            "\n",
            "Archive:  ml-latest-small.zip\n",
            "replace ml-latest-small/links.csv? [y]es, [n]o, [A]ll, [N]one, [r]ename: A\n",
            "  inflating: ml-latest-small/links.csv  \n",
            "  inflating: ml-latest-small/tags.csv  \n",
            "  inflating: ml-latest-small/ratings.csv  \n",
            "  inflating: ml-latest-small/README.txt  \n",
            "  inflating: ml-latest-small/movies.csv  \n",
            "ml-latest-small  ml-latest-small.zip  ml-latest-small.zip.1  sample_data\n"
          ]
        }
      ]
    },
    {
      "cell_type": "markdown",
      "metadata": {
        "id": "RyWRKq2My64s"
      },
      "source": [
        "Сформируем датасет"
      ]
    },
    {
      "cell_type": "code",
      "metadata": {
        "id": "IZWRoSkVpnut"
      },
      "source": [
        "def load_dataset():\n",
        "    reader = Reader(line_format='user item rating timestamp', sep=',', skip_lines=1)\n",
        "    ratings_dataset = Dataset.load_from_file('ml-latest-small/ratings.csv', reader=reader)\n",
        "\n",
        "    movieID_to_name = {}\n",
        "    with open('ml-latest-small/movies.csv', newline='', encoding='ISO-8859-1') as csvfile:\n",
        "            movie_reader = csv.reader(csvfile)\n",
        "            next(movie_reader)\n",
        "            for row in movie_reader:\n",
        "                movieID = int(row[0])\n",
        "                movie_name = row[1]\n",
        "                movieID_to_name[movieID] = movie_name\n",
        "    \n",
        "    return (ratings_dataset, movieID_to_name)\n",
        "\n",
        "dataset, movieID_to_name = load_dataset()"
      ],
      "execution_count": 44,
      "outputs": []
    },
    {
      "cell_type": "markdown",
      "metadata": {
        "id": "CCBw5TpExNIf"
      },
      "source": [
        "Небольшая утилита для получения названия фильма"
      ]
    },
    {
      "cell_type": "code",
      "metadata": {
        "id": "EzOZ44TzszN3"
      },
      "source": [
        "def getMovieName(movieID):\n",
        "  if int(movieID) in movieID_to_name:\n",
        "    return movieID_to_name[int(movieID)]\n",
        "  else:\n",
        "      return \"\""
      ],
      "execution_count": 45,
      "outputs": []
    },
    {
      "cell_type": "markdown",
      "metadata": {
        "id": "H5vEf3w8xGfY"
      },
      "source": [
        "Разделим выборку на тренировочную и тестовую"
      ]
    },
    {
      "cell_type": "code",
      "metadata": {
        "id": "Tc6N20hzu3bD"
      },
      "source": [
        "from surprise.model_selection import train_test_split\n",
        "\n",
        "trainset, testset = train_test_split(dataset, test_size=0.25)"
      ],
      "execution_count": 46,
      "outputs": []
    },
    {
      "cell_type": "markdown",
      "metadata": {
        "id": "q4Es_6R8xUZt"
      },
      "source": [
        "Импортируем и обучим модель"
      ]
    },
    {
      "cell_type": "code",
      "metadata": {
        "id": "p0rdKa2arUzG"
      },
      "source": [
        "from surprise import SVD\n",
        "svd = SVD()\n",
        "svd.fit(trainset)"
      ],
      "execution_count": 47,
      "outputs": []
    },
    {
      "cell_type": "markdown",
      "metadata": {
        "id": "jWvcjW4rxt38"
      },
      "source": [
        "Воспользуемся тестовой выборкой и рассчитаем среднеквадратическую ошибку"
      ]
    },
    {
      "cell_type": "code",
      "metadata": {
        "colab": {
          "base_uri": "https://localhost:8080/"
        },
        "id": "Fzqs6Jxu1rhc",
        "outputId": "e980ad94-2752-425d-fafe-9ca0785db99f"
      },
      "source": [
        "predictions = svd.test(testset)\n",
        "accuracy.rmse(predictions)"
      ],
      "execution_count": 49,
      "outputs": [
        {
          "output_type": "stream",
          "name": "stdout",
          "text": [
            "RMSE: 0.8783\n"
          ]
        },
        {
          "output_type": "execute_result",
          "data": {
            "text/plain": [
              "0.8783167155506799"
            ]
          },
          "metadata": {},
          "execution_count": 49
        }
      ]
    },
    {
      "cell_type": "markdown",
      "metadata": {
        "id": "OkASeV_NyKdn"
      },
      "source": [
        "Порекомендуем пользователю фильм, предположив, что он оценит его больше чем на 4 балла"
      ]
    },
    {
      "cell_type": "code",
      "metadata": {
        "colab": {
          "base_uri": "https://localhost:8080/"
        },
        "id": "peaBTzQovmca",
        "outputId": "499a5b16-d4d5-4efe-80e4-1989de74fb13"
      },
      "source": [
        "for prediction in predictions:\n",
        "  if prediction.est >= 4:\n",
        "    print(\"Можем порекомендовать пользователю {name} фильм {movie}\".format(name=prediction.uid, movie=getMovieName(prediction.iid)))\n",
        "    break"
      ],
      "execution_count": 64,
      "outputs": [
        {
          "output_type": "stream",
          "name": "stdout",
          "text": [
            "Можем порекомендовать пользователю 98 фильм The Martian (2015)\n"
          ]
        }
      ]
    },
    {
      "cell_type": "markdown",
      "metadata": {
        "id": "of95J5rkzRdJ"
      },
      "source": [
        "# Резюме\n",
        "В данном туториале была построена и обучена рекомендательная система основанная на коллаборативной фильтрации."
      ]
    },
    {
      "cell_type": "markdown",
      "metadata": {
        "id": "j4Tsxe-DzT2L"
      },
      "source": [
        "# Источники\n",
        "\n",
        "1.  [Surprise’ documentation](https://surprise.readthedocs.io/en/stable/)\n",
        "2.  [Wiki Recommender system](https://en.wikipedia.org/wiki/Recommender_system)\n",
        "3.  [How you can build simple recommender systems with Surprise.](https://towardsdatascience.com/how-you-can-build-simple-recommender-systems-with-surprise-b0d32a8e4802)\n",
        "4.  [Youtube - How To Use The Surprise Library For Recommendation Engines](https://www.youtube.com/watch?v=fEd1p8-3S7w)\n",
        "5.  [Build a Recommendation Engine With Collaborative Filtering](https://realpython.com/build-recommendation-engine-collaborative-filtering/#the-dataset)"
      "# DDDDDDDDDDDDDDDDDDDDDDDDDD\n",
        "\n",
         " Цель примера библиотеки Python Surprise ясно выражена о том, что такое система рекомендаций, является подклассом системы фильтрации информации, а также отмечена ее полезность в отношении рекомендаций по данным классификации. В конце концов, наблюдается достижение результата рекомендации. Должно быть больше объяснений совместной фильтрации. Иллюстративная графика должна быть включена, так как информация ценна.  \n",
      
      ]
    }
  ]
}
